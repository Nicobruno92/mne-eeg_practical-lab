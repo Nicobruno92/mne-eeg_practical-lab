{
 "cells": [
  {
   "cell_type": "markdown",
   "metadata": {},
   "source": [
    "# EEG practical lab\n",
    "#### Tutores: Mg. Nicolás Bruno y Mg. Tomás D'Amelio\n",
    "\n",
    "## Consigna\n",
    "En la clase de hoy van a tener que realizar en grupo el **análisis desde cero de un set de datos de EEG** hasta obtener resultados reportables.\n",
    "\n",
    "Van a tener todo el día para tarabajar en el *practical lab* mientras que nosotros vamos a ir respondiendo sus dudas y viendo como van. Si no llegan a terminar lo solicitado durante el día tienen tiempo para enviarlo hasta el sábado 20/11.\n",
    "\n",
    "Van a tener que enviarnos el/los jupyter notebook con su análisis y un archivo word/pdf con el reporte.\n",
    "Las consignas para el reporte pueden encontrarlas acá: https://docs.google.com/document/d/1W2fhE0_Ysqb2d4SjnCrHH-SJIH8laNxLO6ynGY-Q4X4/edit?usp=sharing\n",
    "\n",
    "## Dataset\n",
    "\n",
    "El set de datos lo van a poder descargar de aca: \n",
    "\n",
    "https://openneuro.org/datasets/ds003690/versions/1.0.0\n",
    "\n",
    "El dataset cuenta con data de 75 participantes con data de EEG, ECG y pupilar mientras realizan distintas tareas: una tarea pasiva, una tarea simple de tiempos de reacción y otra de Go-Nogo. Nosotros vamos a estar interesados en la tarea Go/No-go. En esta tarea, dependiendo la frecuencia de un determinado estimulo sonoro que se le presentaba, el participante tenía que apretar un botón (Go) o no apretar un botón (No-Go). El 80 % de los ensayos eran ensayos cue-go, mientras que el 20% eran ensayos cue-no-go.\n",
    "\n",
    "\n",
    "## MNE python\n",
    "\n",
    "Para poder realizar prácticamente todos los análisis van a tener que usar la librería de Python MNE, destinada al análisis de EEG. En la siguiente página van a poder encontrar todo la documentación de esta librería con sus funciones y qué hacen las mismas. También van a encontrar tutoriales que explican paso a paso cómo hacer ciertas procedimientos de análisis de datos.\n",
    "\n",
    "https://mne.tools/stable/index.html\n",
    "\n",
    "Recuerden que cuando utilizan una función de una librería en Python siempre tienen que anteponer el nombre de la librería y paquete en el que se encuentra. En el caso de *mne*,por ejemplo, si quieren usar la funcion para realizar un ICA llamada ICA() la cual se encuentra dentro del paquete ¨preprocessing¨ van a tener que poner *mne.preprocessing.ICA()*\n",
    "\n",
    "A su vez recuerden que existen lo que se llaman *métodos* que son como funciones que se aplican directamente a una variable. Por ejemplo si ustedes quieren aplicar un filtro a su variable que tiene los datos crudos(que se llaman \"raw\"), tendrían que hacer raw.filter()\n",
    "\n",
    "\n",
    "## Resolución\n",
    "Este notebook va ir guiandolos en qué tienen que ir haciendo durante el practical. Van a encontrar celdas de texto que los introducen un poco a lo que tienen que hacer y celdas con código incompleto (e.g. \"...\") que ustedes van a tener que completar. En algunos casos directamente encontrarán celdas vacías para que sean completadas en su totalidad por ustedes.\n",
    "\n",
    "Cualquier consulta pueden consultarnos a nuestros mails:\n",
    "- nicobruno92@gmail.com\n",
    "- dameliotomas@gmail.com"
   ]
  },
  {
   "cell_type": "markdown",
   "metadata": {},
   "source": [
    "-----------------------------------------"
   ]
  },
  {
   "cell_type": "markdown",
   "metadata": {},
   "source": [
    "### Importamos las librerias que vamos a usar ###"
   ]
  },
  {
   "cell_type": "markdown",
   "metadata": {},
   "source": [
    "Esta linea es para que los gráficos aparezcan fuera de jupyter ya que los gráficos de MNE  son interactivos\n"
   ]
  },
  {
   "cell_type": "code",
   "execution_count": null,
   "metadata": {},
   "outputs": [],
   "source": [
    "%matplotlib qt "
   ]
  },
  {
   "cell_type": "markdown",
   "metadata": {},
   "source": [
    "Algunas librerías que podrían resultar de utilidad.\\\n",
    "Recuerden que si no tienen alguna de la siguientes librerias pueden bajarlas desde \"Anaconda Prompt (anaconda3)\", utilizando el comando \"pip install NOMBRE_DE_LIBRERIA\".\\\n",
    "E.g. pip install pandas."
   ]
  },
  {
   "cell_type": "code",
   "execution_count": null,
   "metadata": {},
   "outputs": [],
   "source": [
    "import matplotlib.pyplot as plt\n",
    "import pandas as pd\n",
    "import numpy as np\n",
    "import mne\n",
    "from mne_bids import BIDSPath, read_raw_bids, print_dir_tree, make_report"
   ]
  },
  {
   "cell_type": "markdown",
   "metadata": {},
   "source": [
    "# Preprocesamiento\n",
    "Lo primero que vamos a hacer es preprocesar los datos de cada sujeto. Para eso nosotros armamos un _pipeline_ (serie de pasos) clásico de preprocesamiento de EEG parecido al que vieron durante la clase de EEG.\n",
    "\n"
   ]
  },
  {
   "cell_type": "markdown",
   "metadata": {},
   "source": [
    "## Descargar la data en BIDS format\n",
    "\n",
    "Vamos a descargar la data de una base de datos llamada Open Neuro que es de Open Access.\n",
    "El dataset que vamos a usar es el siguiente:\n",
    "\n",
    "https://openneuro.org/datasets/ds003690/download\n",
    "\n",
    "Este dataset se encuentra en un formato que se llama Brain Imaging Data Structure (BIDS), que se utiliza para que todos estos datasets de acceso público se manejen de forma estandarizada, de forma tal que sea mas fácil compartir información y que otros la puedan utilizar.\n",
    "\n",
    "**Descargá el set de datos asignen en la variable \"bids_root\" el path donde se encuentran tus datos descargados.**\n",
    "E.g. Si sus datos se encuentran en '/Users/nicobruno/Downloads/practical_lab/' deberán ejecutrar el sigueinte comando:\n",
    "\n",
    "bids_root = '/Users/nicobruno/Downloads/practical_lab/'"
   ]
  },
  {
   "cell_type": "code",
   "execution_count": null,
   "metadata": {},
   "outputs": [],
   "source": [
    "# Completa con el path que lleve a tus datos\n",
    "bids_root = '...'"
   ]
  },
  {
   "cell_type": "markdown",
   "metadata": {},
   "source": [
    "La librería MNE-BIDS tiene una función llamada \"make_report()\" que resume la información del dataset sobre:\n",
    "\n",
    "a) Descripción general del set de datos (guardada en el archivo \"dataset_description.json\")\n",
    "\n",
    "b) Información de los participantes (guardada en el archivo \"participants.tsv file\")\n",
    "\n",
    "c) Información de los datos de EEG"
   ]
  },
  {
   "cell_type": "code",
   "execution_count": null,
   "metadata": {},
   "outputs": [],
   "source": [
    "print(make_report(bids_root))"
   ]
  },
  {
   "cell_type": "markdown",
   "metadata": {},
   "source": [
    "## Cargar BIDS data\n",
    "Acá van a tener que buscar la función de MNE para cargar/leer (_read_ en inglés) la data para el tipo de archivo que vamos a usar. \\\n",
    "El tipo de archivo en MNE se llama BIDS\\\n",
    "Una vez identificada la función van a usarla para leer el archivo de un sujeto"
   ]
  },
  {
   "cell_type": "code",
   "execution_count": null,
   "metadata": {},
   "outputs": [],
   "source": [
    "# Solo nos va a interesar la data de EEG\n",
    "datatype = 'eeg'\n",
    "suffix = 'eeg'\n",
    "\n",
    "# Vamos a analizar la task GO-NOGO\n",
    "task = 'gonogo' \n",
    "\n",
    "# Los sujetos tenian 2 _runs_ por task pero solo vamos a usar el 1\n",
    "run = '1'\n",
    "\n",
    "# Sujeto que queremos utilizar\n",
    "# Vamos a empezar utilizando el 'sub-AB12'\n",
    "subject = 'AB12'\n",
    "\n",
    "bids_path = BIDSPath(subject=subject, task=task, run = run,\n",
    "                     suffix=suffix, datatype=datatype, \n",
    "                    root=bids_root)"
   ]
  },
  {
   "cell_type": "code",
   "execution_count": null,
   "metadata": {},
   "outputs": [],
   "source": [
    "display(bids_path) # display es como print pero se ve más lindo en jupyter :)"
   ]
  },
  {
   "cell_type": "markdown",
   "metadata": {
    "tags": []
   },
   "source": [
    "<div class=\"alert alert-success\">\n",
    "    <b>Ejercicio</b>:\n",
    "     <ul>\n",
    "    <li>Leer archivo BIDS</li>\n",
    "    </ul>\n",
    "    <br>\n",
    "    <i>tips</i>:\n",
    "    <ul>\n",
    "    <li> <i>Usar la funcion \"read_raw_bids\" de la libreria MNE bids</i></li>\n",
    "    <li> <i>Pasar \"bids_path\" como argumento de dicha función</i></li>\n",
    "    <li> <i>Asginar los datos leidos a la variable \"raw\"</i></li>\n",
    "    </ul>\n",
    "</div>"
   ]
  },
  {
   "cell_type": "code",
   "execution_count": null,
   "metadata": {},
   "outputs": [],
   "source": [
    "# Leer el archivo crudo pasando el path que acabamos de crear al archivo\n",
    "raw = ..."
   ]
  },
  {
   "cell_type": "markdown",
   "metadata": {},
   "source": [
    "### Seteamos montage según condiciones experimentales"
   ]
  },
  {
   "cell_type": "code",
   "execution_count": null,
   "metadata": {},
   "outputs": [],
   "source": [
    "# Elimino canales que no son de EEG\n",
    "raw = raw.drop_channels(['M1', 'M2', 'PO5', 'PO6', 'CB1', 'CB2', 'R-Dia-X-(mm)', 'R-Dia-Y-(mm)'])\n",
    "# Seteo el montage de acuerdo a las condiciones experimentales (en el trabajo usaron Biosemi de 64 canales)\n",
    "raw.set_montage('biosemi64')\n",
    "# Plot del montage\n",
    "raw.plot_sensors(show_names=True)"
   ]
  },
  {
   "cell_type": "markdown",
   "metadata": {},
   "source": [
    "#### Vamos a usar el método \"info\"  para ver un poco que hay adentro de nuestro archivo que acabamos de cargar.\n",
    "#### Esto nos va a decir cuántos canales tenemos y de qué tipo, los nombres de los canales, si ya tiene aplicado algun filtro, cual fue la frequencia de sampleo, etc."
   ]
  },
  {
   "cell_type": "code",
   "execution_count": null,
   "metadata": {},
   "outputs": [],
   "source": [
    "display(raw.info) "
   ]
  },
  {
   "cell_type": "code",
   "execution_count": null,
   "metadata": {},
   "outputs": [],
   "source": [
    "raw.info['sfreq']  # Para ver la frequencia de sampleo (i.e. cantidad de registros por segundo) "
   ]
  },
  {
   "cell_type": "code",
   "execution_count": null,
   "metadata": {},
   "outputs": [],
   "source": [
    "raw.info['...']  # Para ver si algun canal fue marcado como \"malo\" (i.e. defectuoso) por parte de los investigadores"
   ]
  },
  {
   "cell_type": "code",
   "execution_count": null,
   "metadata": {},
   "outputs": [],
   "source": [
    "# Ver el nombre de los primeros 10 canales\n",
    "..."
   ]
  },
  {
   "cell_type": "code",
   "execution_count": null,
   "metadata": {},
   "outputs": [],
   "source": [
    "#Ver cuántos cuantos canales hay\n",
    "..."
   ]
  },
  {
   "cell_type": "markdown",
   "metadata": {},
   "source": [
    "## Downsampling la data\n",
    "\n",
    "El downsampling (i.e. resampleo) consiste en reducir la cantidad registros por segundo que queremos que tenga nuestra data. Esto lo hacemos para agilizar nuestros análisis ya que para lo que vamos a hacer no nos interesa que la frecuencia de sampleo sea tan alta.\n",
    "\n",
    "<div class=\"alert alert-success\">\n",
    "    <b>Ejercicio</b>:\n",
    "     <ul>\n",
    "    <li>\"Downsamplear\" a la mitad de Hz (i.e. la mitad de la cantidad de puntos por segundo) en relación a la data orginal. Si no recuerdan cuánto era la frecuencia de sampleo. está en el método \"info\" bajo \"sfreq\"</li>\n",
    "    </ul>\n",
    "</div>"
   ]
  },
  {
   "cell_type": "code",
   "execution_count": null,
   "metadata": {},
   "outputs": [],
   "source": [
    "# Carga de datos a memroia (requeria para algunas operaciones)\n",
    "raw.load_data()  \n",
    "# Downsamplear la data a la mitad\n",
    "..."
   ]
  },
  {
   "cell_type": "markdown",
   "metadata": {},
   "source": [
    "## Visualizar la data cruda\n",
    "\n",
    "Es muy importante visualizar la data cruda para ver si hay algun canal cuya señal esté \"mala\"/ruidosa. Tómense unos minutos para inspeccionar visualmente los datos de este sujeto.\n",
    "\n",
    "MNE nos permite generar visualizaciones interactivas en donde uno puedo marcar los canales como \"malos\" (se ponen en gris) y cuando se cierra el _plot_ (apretando ESC) va a quedar guardado automaticamente ese canal como malo. \n",
    "\n",
    "_Disclaimer_: cuando creen un gráfico si o si van a tener que cerrarlo para poder seguir bien con el codigo"
   ]
  },
  {
   "cell_type": "markdown",
   "metadata": {},
   "source": [
    "<div class=\"alert alert-success\">\n",
    "    <b>Ejercicio</b>:\n",
    "     <ul>\n",
    "    <li>Ver si hay canales malos</li>\n",
    "    <li>Marcar canales malos (si lo hay)</li>\n",
    "    <li>Ver si pueden indentificar dónde hay pestaneos y movimientos oculares</li>\n",
    "    <li>Identificar los eventos en el plot (son lineas verticales de colores)</li>\n",
    "    </ul>\n",
    "</div>\n",
    "\n",
    "Los canales malos los vamos a descartar (_dropear_) más adelante"
   ]
  },
  {
   "cell_type": "code",
   "execution_count": null,
   "metadata": {},
   "outputs": [],
   "source": [
    "raw.plot()"
   ]
  },
  {
   "cell_type": "markdown",
   "metadata": {},
   "source": [
    "## Filtrado\n",
    "\n",
    "Ahora vamos a filtrar la data. Esto consiste en descartar las frecuencias que están por abajo o por encima de nuestro interés.\n",
    "Vamos a aplicar un filtro para todas las frecuencias por encima de 1Hz a esto se lo llama High-pass filter (filtro pasa altos) y todas las frecuencias por debajo de 40Hz Low-pass filter (filtro pasa bajos)\n",
    "\n",
    "<div class=\"alert alert-success\">\n",
    "    <b>Ejercicio</b>:\n",
    "     <ul>\n",
    "    <li>Filtrar la data cruda entre 1Hz y 40Hz</li>\n",
    "    </ul>\n",
    "</div>"
   ]
  },
  {
   "cell_type": "code",
   "execution_count": null,
   "metadata": {},
   "outputs": [],
   "source": [
    "# definir valor high pass filter\n",
    "hpass = ...\n",
    "# definir valor low pass filter\n",
    "lpass = ...\n",
    "\n",
    "# filtrar data cruda\n",
    "# buscar en la documentacion\n",
    "# van a tener que utilizar el metodo de mne para filtrar la data \n",
    "raw_filtered = raw.filter(..., ...)"
   ]
  },
  {
   "cell_type": "markdown",
   "metadata": {},
   "source": [
    "Ahora vamos a vamos realizar un gráfico de frecuencia (Power Spectral Density, PSD). Van a poder ver como por fuera de nuestros cortes (dado por los filtros) el poder de la señal cae. "
   ]
  },
  {
   "cell_type": "code",
   "execution_count": null,
   "metadata": {},
   "outputs": [],
   "source": [
    "raw_filtered.plot_psd()"
   ]
  },
  {
   "cell_type": "markdown",
   "metadata": {},
   "source": [
    "## Definir eventos\n",
    "Una vez que tenemos la data  filtrada el siguiente paso va a ser poder cortar nuestra data en épocas. O sea, vamos a tener que seleccionar eventos de interés (e.g.: estimulos, respuestas, etc) y luego cortar la data cruda alrededor de este evento. En este caso nuestros eventos van a ser los eventos presentados, ya sean go o no-go. Por ende, lo primero que vamos a hacer ahora es buscar estos eventos en la señal. Siempre que trabajamos con este tipo de señales va a ver un canal que esta destinado a marcar en que momento de la señal se presento el evento, y a estas marcas se las llama _triggers_. En el caso que haya que encontrar los eventos de un canal de estimulos vas a tener que usar la funcion mne.find_events()\n",
    "\n",
    "Para este dataset los estímulos ya fueron pasados a anotaciones en la señal.\\\n",
    "Pueden verlas ploteando la raw data. En este caso la función es mne.events_from_annotations()\n",
    "\n",
    "<div class=\"alert alert-success\">\n",
    "    <b>Ejercicio</b>:\n",
    "     <ul>\n",
    "    <li>Encontrar eventos</li>\n",
    "    </ul>\n",
    "     <br>\n",
    "    <i>tips</i>:\n",
    "    <ul>\n",
    "    <li> <i>Usar función mne.events_from_annotations()</i></li>\n",
    "    <li> <i>Esta función devuelve dos variables así que van a tener que dar dos variables para asignar (e.g. \"events\" y \"event_id\")</i></li>\n",
    "    </ul>\n",
    "</div>"
   ]
  },
  {
   "cell_type": "code",
   "execution_count": null,
   "metadata": {},
   "outputs": [],
   "source": [
    "# usar funcion events_from_annotations\n",
    "events, event_id = ..."
   ]
  },
  {
   "cell_type": "markdown",
   "metadata": {},
   "source": [
    "Esta funcion devuelve dos variables, en este caso \"events\" y \"event_id\".\\\n",
    "_Events_ contiene la informacion sobre todos los triggers (el primer número hace referencia al tiempo de presentación del evento en puntos de registro, mientras que el último número refiere al código asignado a cada tipo de evento).\\\n",
    "Y _event_id_ es un diccionario que contiene el id de cada evento con su nombre."
   ]
  },
  {
   "cell_type": "code",
   "execution_count": null,
   "metadata": {},
   "outputs": [],
   "source": [
    "print(events[:10]) #solo los 10 primeros eventos\n",
    "print(event_id)"
   ]
  },
  {
   "cell_type": "code",
   "execution_count": null,
   "metadata": {},
   "outputs": [],
   "source": [
    "# visualizar los eventos\n",
    "mne.viz.plot_events(events, raw_filtered.info['sfreq'])"
   ]
  },
  {
   "cell_type": "markdown",
   "metadata": {},
   "source": [
    "Para este ejercicio los únicos eventos que nos van a interesar son los Go y No-Go. \n",
    "\n",
    "<div class=\"alert alert-success\">\n",
    "    <b>Ejercicio</b>:\n",
    "     <ul>\n",
    "    <li>Crear una lista con id de los eventos a incluir</li>\n",
    "    <li>Usar la funcion pick_events para seleccionar los eventos de interés</li>\n",
    "    <li>Crear un diccionario para los eventos y sus id a incluir</li>\n",
    "    </ul>\n",
    "    <br>\n",
    "    <i>tips</i>:\n",
    "    <ul>\n",
    "    <li> <i>Revisar el diccionario events_id para encontrar los id de cada evento</i></li>\n",
    "    </ul>\n",
    "</div>"
   ]
  },
  {
   "cell_type": "code",
   "execution_count": null,
   "metadata": {},
   "outputs": [],
   "source": [
    "# lista con los id de los eventos de interés (\"Go\" y \"No-Go\") \n",
    "include = ...\n",
    "\n",
    "# events to include using pick events\n",
    "events_included = mne.pick_events(...)\n",
    "\n",
    "# diccionario de eventos a incluir\n",
    "event_id_included  = ..."
   ]
  },
  {
   "cell_type": "markdown",
   "metadata": {},
   "source": [
    "## Crear Épocas\n",
    "\n",
    "Ahora que ya tenemos los eventos identificados con sus IDs, podemos crear nuestras épocas alrededor de estos. \n",
    "De este modo, tenemos que definir desde qué tiempo hasta qué tiempo es la duración de cada una nuestras épocas (importante: el tiempo \"0\" corresponde a la referencia de la marca del evento). Además, hay que definir qué parte de la señal se utilizará como linea de base (_baseline_). Dicho baseline (que generalmente es un tiempo anterior a cada ensayo) sería restado a la señal epocheado, de forma tal de mitigar cambios en las señales de EEG que no estén relacioandas con la pregunta experimental.\n",
    "\n",
    "\n",
    "<div class=\"alert alert-success\">\n",
    "    <b>Ejercicio</b>:\n",
    "     <ul>\n",
    "    <li>Definir tiempo mínimo de época a los -200ms</li>\n",
    "    <li>Definir tiempo máximo de época a los 800ms</li>\n",
    "    <li>Definir baseline de -200ms a 0ms</li>\n",
    "    </ul>\n",
    "    <br>\n",
    "    <i>tips</i>:\n",
    "    <ul>\n",
    "    <li> <i>El tiempo negativo indica que es anterior al evento.</i></li>\n",
    "    <li> <i>En mne el tiempo va en segundos no en milisegundos (ms)</i></li>\n",
    "    </ul>\n",
    "</div>"
   ]
  },
  {
   "cell_type": "code",
   "execution_count": null,
   "metadata": {},
   "outputs": [],
   "source": [
    "# definir tiempo minimo\n",
    "tmin = ...\n",
    "# definir tiempo maximo\n",
    "tmax = ...\n",
    "# definir baseline\n",
    "baseline = ..."
   ]
  },
  {
   "cell_type": "markdown",
   "metadata": {},
   "source": [
    "Una vez que definimos los tiempos de las épocas ya podemos \"epoquear\" (i.e. extraer ventanas de interés de la señal continua de EEG). Los eventos que nos van a interesar para este análisis son solo los \"Go\" y \"No-Go\".\n",
    "\n",
    "Una parte muy importante del preprocesado es el descartar épocas malas. Normalmente es recomendable utilizar una combinación de algoritmos de detección de épocas malas e inspección visual de las épocas. En MNE podemos setear un criterio para _rejectear_ (descartar) las épocas que superan un determinado cierto umbral.\n",
    "\n",
    "<div class=\"alert alert-success\">\n",
    "    <b>Ejercicio</b>:\n",
    "     <ul>\n",
    "    <li>Epoquear la data cruda filtrada utilizando los tiempos predifinidos</li>\n",
    "    <li>Epoquear solo para los eventos Go y No-Go</li>\n",
    "    <li>Pasar a la función Epochs el criterio de rejecteo predifinido</li>\n",
    "    </ul>\n",
    "    <br>\n",
    "    <i>tips</i>:\n",
    "    <ul>\n",
    "    <li> <i>Vas a tener que usar la funcion mne.Epochs</i></li>\n",
    "    <li> <i>En mne el tiempo va en segundos no en milisegundos (ms)</i></li>\n",
    "    </ul>\n",
    "</div>"
   ]
  },
  {
   "cell_type": "code",
   "execution_count": null,
   "metadata": {},
   "outputs": [],
   "source": [
    "#criterio de rejecteo predifinido\n",
    "reject_criteria = dict(eeg= 200e-6, eog=200e-6) \n",
    "\n",
    "\n",
    "epochs = ..."
   ]
  },
  {
   "cell_type": "code",
   "execution_count": null,
   "metadata": {},
   "outputs": [],
   "source": [
    "print(epochs)"
   ]
  },
  {
   "cell_type": "markdown",
   "metadata": {},
   "source": [
    "## Inspección visual de épocas\n",
    "\n",
    "Como dijimos, para _rejectear_ épocas se utiliza un critrio e inspección viusal. Previamente seteamos los criterio para _rejecteo_ y las marcamos al epoquear. En este caso toca realizar la inspección visual de las mismas.\n",
    "\n",
    "Para esto una vez ploteado van a ir scrolleando todas las épocas y marcando todas las que ustedes consideren malas. Al finalizar de scrollear todas, con ESC salen y se guardan las épocas que marcaron como malas y les va a indicar en base a que electrodos fueron marcadas (esto sirve por si ven que son todas por un solo electrodo podrían descartar el electrodo así no pierden tantas épocas)\n",
    "\n",
    "<div class=\"alert alert-success\">\n",
    "    <b>Ejercicio</b>:\n",
    "     <ul>\n",
    "    <li>Realizar la inspección visual de todas las épocas</li>\n",
    "    <li>Marcar las épocas malas (en caso que existieran)</li>\n",
    "    <li>Marcar canales malos. En caso que todos los canales estuvieran bien, de todos modos seleccionar uno de los canales (haciendo click en el canal verán que se pone de un color gris mas claro) para que luego podamos practicar interpolar canales</li>\n",
    "    </ul>\n",
    "</div>"
   ]
  },
  {
   "cell_type": "code",
   "execution_count": null,
   "metadata": {},
   "outputs": [],
   "source": [
    "# Plotear las épocas\n",
    "..."
   ]
  },
  {
   "cell_type": "code",
   "execution_count": null,
   "metadata": {},
   "outputs": [],
   "source": [
    "epochs.drop_bad()  # remover las epocas malas\n",
    "epochs.plot_drop_log() #plotear que épocas dropeamos y bajo que condiciones"
   ]
  },
  {
   "cell_type": "code",
   "execution_count": null,
   "metadata": {},
   "outputs": [],
   "source": [
    "print(epochs) # ahora deberiamos tener tantas epocas menos como las que dropeamos"
   ]
  },
  {
   "cell_type": "markdown",
   "metadata": {},
   "source": [
    "## Guardar épocas\n",
    "Es conveniente ir guardando lo que vamos haciendo así no se pierde. Ahora que ya tenemos las épocas limpias vamos a guardarlas.\n",
    "\n",
    "<div class=\"alert alert-success\">\n",
    "    <b>Ejercicio</b>:\n",
    "     <ul>\n",
    "    <li>Guardar las épocas</li>\n",
    "    </ul>\n",
    "    <br>\n",
    "    <i>tips</i>:\n",
    "    <ul>\n",
    "    <li>Utilizar el método \"save\" para guardar las épocas<i></i></li>\n",
    "    <li>El path en el que se guardarán las épocas es \"epochs_fname\"<i></i></li>\n",
    "    </ul>\n",
    "</div>"
   ]
  },
  {
   "cell_type": "code",
   "execution_count": null,
   "metadata": {},
   "outputs": [],
   "source": [
    "epochs_fname = bids_path.copy().update(suffix='epo', check=False)\n",
    "\n",
    "# Utilizar el método save para guardar épocas\n",
    "..."
   ]
  },
  {
   "cell_type": "markdown",
   "metadata": {},
   "source": [
    "## ICA"
   ]
  },
  {
   "cell_type": "markdown",
   "metadata": {},
   "source": [
    "El independent component analysis (ICA) permite descomponer la señal en los principales componentes que explican la señal de todos nuestros electrodos. Y esto nos permite identificar componentes con una fuente común que no es una señal cognitiva que estemos buscando, como por ejemplo el ruido generado por movimientos oculares y los latidos del corazon.\n",
    "\n",
    "El objetivo ahora va a ser utilizar el ICA e intentar identificar los componentes oculares y cardíacos de la señal."
   ]
  },
  {
   "cell_type": "code",
   "execution_count": null,
   "metadata": {},
   "outputs": [],
   "source": [
    "# Correr directamente este bloque de código que permite identificar componentes que pudieran ser artefactos a través del método ICA\n",
    "\n",
    "n_components = 0.99  \n",
    "method = 'fastica'\n",
    "max_iter = 512 \n",
    "fit_params = dict(fastica_it=5)\n",
    "random_state = 42\n",
    "\n",
    "ica = mne.preprocessing.ICA(n_components=n_components,\n",
    "                            method=method,\n",
    "                            max_iter=max_iter,\n",
    "                            random_state=random_state)\n",
    "\n",
    "ica.fit(epochs)"
   ]
  },
  {
   "cell_type": "markdown",
   "metadata": {},
   "source": [
    "Vamos a plotear las fuentes de los componentes de ICA (i.e. sources). Hay que ver ahora si tienen forma de componente ocular o de cardíaco. Es posible hacer click derecho en los nombres de los canales para ver la topografía de estos componentes, lo que nos dará información adicional para decidir si descartar o conservar dicho componente."
   ]
  },
  {
   "cell_type": "code",
   "execution_count": null,
   "metadata": {},
   "outputs": [],
   "source": [
    "ica.plot_sources(epochs, block=False, picks =range(10))"
   ]
  },
  {
   "cell_type": "markdown",
   "metadata": {},
   "source": [
    "## Interpolar canales malos\n",
    "\n",
    "Ahora vamos a interpolar los canales que a lo largo del preprocesamiento fuimos marcando como malos. Esto significa que vamos a tratar de recrear estos canales a partir de la información de los canales vecinos. \n",
    "\n",
    "<div class=\"alert alert-success\">\n",
    "    <b>Ejercicio</b>:\n",
    "     <ul>\n",
    "    <li>Interpolar canales malos</li>\n",
    "    </ul>\n",
    "    <br>\n",
    "    <i>tips</i>:\n",
    "    <ul>\n",
    "    <li> <i>Usar el método interpolate_bads()</i></li>\n",
    "    </ul>\n",
    "</div>\n"
   ]
  },
  {
   "cell_type": "code",
   "execution_count": null,
   "metadata": {},
   "outputs": [],
   "source": [
    "# epochs interpolated\n",
    "epochs.load_data()\n",
    "epochs_interpolate = ..."
   ]
  },
  {
   "cell_type": "markdown",
   "metadata": {},
   "source": [
    "## Rereferenceo a _grand average_ de los electrodos\n",
    "\n",
    "Los distintos sistemas de EEG utilizan diferentes referencias para calcular los voltajes. Por ejemplo, una referencia puede ser electrodos en los mastoides, en los lóbulos de las orejas o a algun electrodo del cuero cabelludo. Por esto mismo es un standard aplicar un \"rereferenceo\" en algún punto del preprocesado. En este caso vamos a rereferencear al promedio de todos los electrodos.\n",
    "\n",
    "<div class=\"alert alert-success\">\n",
    "    <b>Ejercicio</b>:\n",
    "     <ul>\n",
    "    <li>Rereferencear a el promedio de todos los electrodos</li>\n",
    "    </ul>\n",
    "    <br>\n",
    "    <i>tips</i>:\n",
    "    <ul>\n",
    "    <li> <i>Usar función set_eeg_reference</i></li>\n",
    "    <li> <i>Tener en cuenta que esta función devuelve dos instancias así que hay que darle dos variables</i></li>\n",
    "    </ul>\n",
    "</div>"
   ]
  },
  {
   "cell_type": "code",
   "execution_count": null,
   "metadata": {},
   "outputs": [],
   "source": [
    "# usar average para la referencia de los canales\n",
    "epochs_rereferenced, ref_data = mne.set_eeg_reference(inst = ..., ref_channels = '...', copy = True)"
   ]
  },
  {
   "cell_type": "markdown",
   "metadata": {},
   "source": [
    "# Crear Evoked\n",
    "\n",
    "Luego de concluir los pasos de pre-procesamiento podemos dedicarnos ahora a responder una pregunta concreta de investigación:\n",
    "¿Es posible encontrar diferencias en el procesamiento cerebral de condiciones Go y No-Go?\n",
    "Particularmente, el potencial relacionado con evento (ERP, según su sigla en inglés) que nos interesa ver es el P300. Este es un potencial que se ve generalmente en electrodos centro-posteriores alrededor de los 300ms, y se lo ha estudiado previamente como correlato en tareas Go/No-go.\n",
    "\n",
    "De este modo, ahora vamos a poder calcular el Evoked, o sea el promedio de los distintos ensayos para cada una de las condiciones por separado.\n",
    "\n",
    "Esto puede ser realizado para cada electrodo por separado, se pueden realizar cluster de electrodos o general un solo promedio de todos los electrodos.\n",
    "\n",
    "Primero empecemos calculando el Evoked para cada electrodo por separado.\n",
    "\n"
   ]
  },
  {
   "cell_type": "code",
   "execution_count": null,
   "metadata": {},
   "outputs": [],
   "source": [
    "# Cómputo de Evoked para la condición Go\n",
    "epochs_rereferenced[\"go\"].average().plot(spatial_colors=True)"
   ]
  },
  {
   "cell_type": "code",
   "execution_count": null,
   "metadata": {},
   "outputs": [],
   "source": [
    "# Cómputo de Evoked para la condición No-Go\n",
    "..."
   ]
  },
  {
   "cell_type": "markdown",
   "metadata": {},
   "source": [
    "### Ahora calculemos el Evoked para el promedio de los electrodos para cada condición\n",
    "<div class=\"alert alert-success\">\n",
    "    <b>Ejercicio</b>:\n",
    "     <ul>\n",
    "    <li> Crearemos una variable llamada \"average_go\" en la que calcularemos el promedio (\"average()\") de las epocas rereferenciadas especificamente para la condición Go. </li>\n",
    "    <li> Crearemos una variable llamada \"average_no_go\" en la que calcularemos el promedio (\"average()\") de las epocas rereferenciadas especificamente para la condición No-Go. </li>\n",
    "    <li> Realizamos la compración entre los ERPs de la condición Go y No-Go </li>\n",
    "    </ul>\n",
    "    <br>\n",
    "    <i>tips</i>:\n",
    "    <ul>\n",
    "    <li> <i>La función \"mne.viz.plot_compare_evokeds\" sirve para comparar ERPs</i></li>\n",
    "    <li> <i>Es importante asignar como argumento de dicha función un diccionario que incluya average_go y average_no_go</i></li>\n",
    "    </ul>\n",
    "</div>"
   ]
  },
  {
   "cell_type": "code",
   "execution_count": null,
   "metadata": {},
   "outputs": [],
   "source": [
    "average_go = epochs_rereferenced[\"go\"].average()\n",
    "average_no_go = ...\n",
    "# Comparamos ERPs\n",
    "..."
   ]
  },
  {
   "cell_type": "markdown",
   "metadata": {},
   "source": [
    "### Analizar Regiones de Interés (ROIs): promedio entre canales"
   ]
  },
  {
   "cell_type": "markdown",
   "metadata": {},
   "source": [
    "Ahora vamos a realizar 2 clusters de 6 electrodos.\\\n",
    " Vamos a generar un **cluster frontal** (los 6 electrodos alrededor de Fz) y un **cluster posterior** (los 6 electrodos alrededor de Pz).\n",
    "\n",
    " <div class=\"alert alert-success\">\n",
    "    <b>Ejercicio</b>:\n",
    "     <ul>\n",
    "    <li> En las variables \"frontal\" y \"posterior\" crearemos listas donde que pondrán los canales que correpsonden a cada cluster. </li>\n",
    "    <li> Al momento de comparar ERPs, esta vez pasaremos como argumento \"picks\" las listas de canales creadas (i.e. frontal y posterior). De esta forma podremos subsetear según ROIs </li>\n",
    "    </ul>\n",
    "    <br>\n",
    "</div> "
   ]
  },
  {
   "cell_type": "code",
   "execution_count": null,
   "metadata": {},
   "outputs": [],
   "source": [
    "frontal = ...\n",
    "posterior = ...\n",
    "\n",
    "evokeds = dict(Go=list(epochs_rereferenced['go'].iter_evoked()),\n",
    "               ...))"
   ]
  },
  {
   "cell_type": "code",
   "execution_count": null,
   "metadata": {},
   "outputs": [],
   "source": [
    "# Calculamos el Evoked para electrodos frontales\n"
   ]
  },
  {
   "cell_type": "code",
   "execution_count": null,
   "metadata": {},
   "outputs": [],
   "source": [
    "# Calculamos el Evoked para electrodos posteriores"
   ]
  }
 ],
 "metadata": {
  "interpreter": {
   "hash": "85bfb4fda6b6346f8eb0b60a56672a689fcee533e5a134e0cbb64ac5c7775566"
  },
  "kernelspec": {
   "display_name": "Python 3",
   "language": "python",
   "name": "python3"
  },
  "language_info": {
   "codemirror_mode": {
    "name": "ipython",
    "version": 3
   },
   "file_extension": ".py",
   "mimetype": "text/x-python",
   "name": "python",
   "nbconvert_exporter": "python",
   "pygments_lexer": "ipython3",
   "version": "3.8.3"
  }
 },
 "nbformat": 4,
 "nbformat_minor": 4
}
